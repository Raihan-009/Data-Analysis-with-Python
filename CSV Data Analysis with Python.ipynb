{
 "cells": [
  {
   "cell_type": "code",
   "execution_count": 116,
   "id": "ca7742d1",
   "metadata": {},
   "outputs": [],
   "source": [
    "# Lets import the necessary dependencies or libraries\n",
    "import pandas as pd\n",
    "import numpy as np\n",
    "import matplotlib.pyplot as plt\n",
    "import os"
   ]
  },
  {
   "cell_type": "markdown",
   "id": "159d4073",
   "metadata": {},
   "source": [
    "## Load Data"
   ]
  },
  {
   "cell_type": "code",
   "execution_count": 117,
   "id": "5cece3d5",
   "metadata": {},
   "outputs": [],
   "source": [
    "filelist = os.listdir('Sales_Data')"
   ]
  },
  {
   "cell_type": "code",
   "execution_count": 118,
   "id": "848ff6dd",
   "metadata": {},
   "outputs": [
    {
     "name": "stdout",
     "output_type": "stream",
     "text": [
      "Sales_December_2019.csv\n",
      "Sales_April_2019.csv\n",
      "Sales_February_2019.csv\n",
      "Sales_March_2019.csv\n",
      "Sales_August_2019.csv\n",
      "Sales_May_2019.csv\n",
      "Sales_November_2019.csv\n",
      "Sales_October_2019.csv\n",
      "Sales_January_2019.csv\n",
      "combined.csv\n",
      "Sales_September_2019.csv\n",
      "Sales_July_2019.csv\n",
      "Sales_June_2019.csv\n"
     ]
    }
   ],
   "source": [
    "for each_file in filelist:\n",
    "    print(each_file)"
   ]
  },
  {
   "cell_type": "code",
   "execution_count": 119,
   "id": "32dc973a",
   "metadata": {},
   "outputs": [],
   "source": [
    "# declaring path in a variable\n",
    "path = 'Sales_Data'"
   ]
  },
  {
   "cell_type": "code",
   "execution_count": 120,
   "id": "07dc6bb8",
   "metadata": {},
   "outputs": [
    {
     "data": {
      "text/plain": [
       "(0, 0)"
      ]
     },
     "execution_count": 120,
     "metadata": {},
     "output_type": "execute_result"
    }
   ],
   "source": [
    "# lets create a data frame object\n",
    "\n",
    "df = pd.DataFrame()\n",
    "df.shape"
   ]
  },
  {
   "cell_type": "code",
   "execution_count": 121,
   "id": "79a5a972",
   "metadata": {},
   "outputs": [
    {
     "name": "stdout",
     "output_type": "stream",
     "text": [
      "(25117, 6)\n",
      "(18383, 6)\n",
      "(12036, 6)\n",
      "(15226, 6)\n",
      "(12011, 6)\n",
      "(16635, 6)\n",
      "(17661, 6)\n",
      "(20379, 6)\n",
      "(9723, 6)\n",
      "(186850, 6)\n",
      "(11686, 6)\n",
      "(14371, 6)\n",
      "(13622, 6)\n"
     ]
    }
   ],
   "source": [
    "# lets see the shape of every csv files\n",
    "for each_file in filelist:\n",
    "    monthlyData = pd.read_csv(path+\"/\"+each_file)\n",
    "    print(monthlyData.shape)"
   ]
  },
  {
   "cell_type": "code",
   "execution_count": 122,
   "id": "92df6df2",
   "metadata": {},
   "outputs": [],
   "source": [
    "# lets combine all\n",
    "for each_file in filelist:\n",
    "    monthlyData = pd.read_csv(path+\"/\"+each_file)\n",
    "    df = pd.concat([df, monthlyData])"
   ]
  },
  {
   "cell_type": "code",
   "execution_count": 123,
   "id": "1f908171",
   "metadata": {},
   "outputs": [],
   "source": [
    "df.to_csv('Sales_Data/combined.csv', index=False)"
   ]
  },
  {
   "cell_type": "code",
   "execution_count": 124,
   "id": "fb1a2108",
   "metadata": {},
   "outputs": [
    {
     "data": {
      "text/plain": [
       "(373700, 6)"
      ]
     },
     "execution_count": 124,
     "metadata": {},
     "output_type": "execute_result"
    }
   ],
   "source": [
    "# Now lets check the size of dataframe\n",
    "df.shape"
   ]
  },
  {
   "cell_type": "code",
   "execution_count": 125,
   "id": "05040612",
   "metadata": {},
   "outputs": [
    {
     "data": {
      "text/html": [
       "<div>\n",
       "<style scoped>\n",
       "    .dataframe tbody tr th:only-of-type {\n",
       "        vertical-align: middle;\n",
       "    }\n",
       "\n",
       "    .dataframe tbody tr th {\n",
       "        vertical-align: top;\n",
       "    }\n",
       "\n",
       "    .dataframe thead th {\n",
       "        text-align: right;\n",
       "    }\n",
       "</style>\n",
       "<table border=\"1\" class=\"dataframe\">\n",
       "  <thead>\n",
       "    <tr style=\"text-align: right;\">\n",
       "      <th></th>\n",
       "      <th>Order ID</th>\n",
       "      <th>Product</th>\n",
       "      <th>Quantity Ordered</th>\n",
       "      <th>Price Each</th>\n",
       "      <th>Order Date</th>\n",
       "      <th>Purchase Address</th>\n",
       "    </tr>\n",
       "  </thead>\n",
       "  <tbody>\n",
       "    <tr>\n",
       "      <th>0</th>\n",
       "      <td>295665</td>\n",
       "      <td>Macbook Pro Laptop</td>\n",
       "      <td>1</td>\n",
       "      <td>1700</td>\n",
       "      <td>12/30/19 00:01</td>\n",
       "      <td>136 Church St, New York City, NY 10001</td>\n",
       "    </tr>\n",
       "    <tr>\n",
       "      <th>1</th>\n",
       "      <td>295666</td>\n",
       "      <td>LG Washing Machine</td>\n",
       "      <td>1</td>\n",
       "      <td>600.0</td>\n",
       "      <td>12/29/19 07:03</td>\n",
       "      <td>562 2nd St, New York City, NY 10001</td>\n",
       "    </tr>\n",
       "    <tr>\n",
       "      <th>2</th>\n",
       "      <td>295667</td>\n",
       "      <td>USB-C Charging Cable</td>\n",
       "      <td>1</td>\n",
       "      <td>11.95</td>\n",
       "      <td>12/12/19 18:21</td>\n",
       "      <td>277 Main St, New York City, NY 10001</td>\n",
       "    </tr>\n",
       "    <tr>\n",
       "      <th>3</th>\n",
       "      <td>295668</td>\n",
       "      <td>27in FHD Monitor</td>\n",
       "      <td>1</td>\n",
       "      <td>149.99</td>\n",
       "      <td>12/22/19 15:13</td>\n",
       "      <td>410 6th St, San Francisco, CA 94016</td>\n",
       "    </tr>\n",
       "    <tr>\n",
       "      <th>4</th>\n",
       "      <td>295669</td>\n",
       "      <td>USB-C Charging Cable</td>\n",
       "      <td>1</td>\n",
       "      <td>11.95</td>\n",
       "      <td>12/18/19 12:38</td>\n",
       "      <td>43 Hill St, Atlanta, GA 30301</td>\n",
       "    </tr>\n",
       "  </tbody>\n",
       "</table>\n",
       "</div>"
      ],
      "text/plain": [
       "  Order ID               Product Quantity Ordered Price Each      Order Date  \\\n",
       "0   295665    Macbook Pro Laptop                1       1700  12/30/19 00:01   \n",
       "1   295666    LG Washing Machine                1      600.0  12/29/19 07:03   \n",
       "2   295667  USB-C Charging Cable                1      11.95  12/12/19 18:21   \n",
       "3   295668      27in FHD Monitor                1     149.99  12/22/19 15:13   \n",
       "4   295669  USB-C Charging Cable                1      11.95  12/18/19 12:38   \n",
       "\n",
       "                         Purchase Address  \n",
       "0  136 Church St, New York City, NY 10001  \n",
       "1     562 2nd St, New York City, NY 10001  \n",
       "2    277 Main St, New York City, NY 10001  \n",
       "3     410 6th St, San Francisco, CA 94016  \n",
       "4           43 Hill St, Atlanta, GA 30301  "
      ]
     },
     "execution_count": 125,
     "metadata": {},
     "output_type": "execute_result"
    }
   ],
   "source": [
    "# Lets see the first few rows\n",
    "df.head()"
   ]
  },
  {
   "cell_type": "code",
   "execution_count": 126,
   "id": "0761914d",
   "metadata": {},
   "outputs": [
    {
     "data": {
      "text/plain": [
       "Order ID            object\n",
       "Product             object\n",
       "Quantity Ordered    object\n",
       "Price Each          object\n",
       "Order Date          object\n",
       "Purchase Address    object\n",
       "dtype: object"
      ]
     },
     "execution_count": 126,
     "metadata": {},
     "output_type": "execute_result"
    }
   ],
   "source": [
    "# Lets check the types of data\n",
    "df.dtypes"
   ]
  },
  {
   "cell_type": "markdown",
   "id": "71c22c19",
   "metadata": {},
   "source": [
    "## Data Pre-processing"
   ]
  },
  {
   "cell_type": "code",
   "execution_count": 127,
   "id": "3b23b2f1",
   "metadata": {},
   "outputs": [
    {
     "data": {
      "text/plain": [
       "Order ID            1090\n",
       "Product             1090\n",
       "Quantity Ordered    1090\n",
       "Price Each          1090\n",
       "Order Date          1090\n",
       "Purchase Address    1090\n",
       "dtype: int64"
      ]
     },
     "execution_count": 127,
     "metadata": {},
     "output_type": "execute_result"
    }
   ],
   "source": [
    "df.isnull().sum()"
   ]
  },
  {
   "cell_type": "code",
   "execution_count": 128,
   "id": "dd04cf78",
   "metadata": {},
   "outputs": [],
   "source": [
    "new_dataset = df.dropna(how=\"all\")"
   ]
  },
  {
   "cell_type": "code",
   "execution_count": 129,
   "id": "4520d1bf",
   "metadata": {},
   "outputs": [
    {
     "data": {
      "text/plain": [
       "(372610, 6)"
      ]
     },
     "execution_count": 129,
     "metadata": {},
     "output_type": "execute_result"
    }
   ],
   "source": [
    "new_dataset.shape"
   ]
  },
  {
   "cell_type": "code",
   "execution_count": 130,
   "id": "96d45a60",
   "metadata": {},
   "outputs": [
    {
     "data": {
      "text/plain": [
       "array(['1700', '600.0', '11.95', '149.99', '3.84', '99.99', '2.99',\n",
       "       '999.99', '14.95', '600', '11.99', '150', '400', '700', '109.99',\n",
       "       '379.99', '300', '389.99', 'Price Each', '700.0', '1700.0',\n",
       "       '150.0', '300.0', '400.0'], dtype=object)"
      ]
     },
     "execution_count": 130,
     "metadata": {},
     "output_type": "execute_result"
    }
   ],
   "source": [
    "new_dataset['Price Each'].unique()"
   ]
  },
  {
   "cell_type": "code",
   "execution_count": 131,
   "id": "2ba11f73",
   "metadata": {},
   "outputs": [
    {
     "data": {
      "text/plain": [
       "array(['295665', '295666', '295667', ..., '222907', '222908', '222909'],\n",
       "      dtype=object)"
      ]
     },
     "execution_count": 131,
     "metadata": {},
     "output_type": "execute_result"
    }
   ],
   "source": [
    "new_dataset['Order ID'].unique()"
   ]
  },
  {
   "cell_type": "code",
   "execution_count": 132,
   "id": "f68c6bf1",
   "metadata": {},
   "outputs": [
    {
     "data": {
      "text/plain": [
       "array(['1', '2', '4', '3', 'Quantity Ordered', '7', '5', '6', '8', '9'],\n",
       "      dtype=object)"
      ]
     },
     "execution_count": 132,
     "metadata": {},
     "output_type": "execute_result"
    }
   ],
   "source": [
    "new_dataset['Quantity Ordered'].unique()"
   ]
  },
  {
   "cell_type": "code",
   "execution_count": 133,
   "id": "650fba21",
   "metadata": {},
   "outputs": [],
   "source": [
    "latest_dataset = new_dataset[new_dataset['Price Each'] != 'Price Each']"
   ]
  },
  {
   "cell_type": "code",
   "execution_count": 134,
   "id": "ba93c5df",
   "metadata": {},
   "outputs": [
    {
     "name": "stderr",
     "output_type": "stream",
     "text": [
      "/var/folders/lp/3_kngxhj5s15kvw79j282szr0000gn/T/ipykernel_6912/2604884663.py:1: SettingWithCopyWarning: \n",
      "A value is trying to be set on a copy of a slice from a DataFrame.\n",
      "Try using .loc[row_indexer,col_indexer] = value instead\n",
      "\n",
      "See the caveats in the documentation: https://pandas.pydata.org/pandas-docs/stable/user_guide/indexing.html#returning-a-view-versus-a-copy\n",
      "  latest_dataset['Price Each'] = latest_dataset['Price Each'].astype(float)\n"
     ]
    }
   ],
   "source": [
    "latest_dataset['Price Each'] = latest_dataset['Price Each'].astype(float)"
   ]
  },
  {
   "cell_type": "code",
   "execution_count": 135,
   "id": "c8db8fd8",
   "metadata": {},
   "outputs": [
    {
     "data": {
      "text/plain": [
       "Order ID             object\n",
       "Product              object\n",
       "Quantity Ordered     object\n",
       "Price Each          float64\n",
       "Order Date           object\n",
       "Purchase Address     object\n",
       "dtype: object"
      ]
     },
     "execution_count": 135,
     "metadata": {},
     "output_type": "execute_result"
    }
   ],
   "source": [
    "latest_dataset.dtypes"
   ]
  },
  {
   "cell_type": "code",
   "execution_count": 136,
   "id": "755d513d",
   "metadata": {},
   "outputs": [],
   "source": [
    "latest_dataset = latest_dataset[latest_dataset['Quantity Ordered'] != 'Quantity Ordered']"
   ]
  },
  {
   "cell_type": "code",
   "execution_count": 137,
   "id": "dd758c1e",
   "metadata": {},
   "outputs": [],
   "source": [
    "latest_dataset['Quantity Ordered'] = latest_dataset['Quantity Ordered'].astype(int)"
   ]
  },
  {
   "cell_type": "code",
   "execution_count": 138,
   "id": "d43ca091",
   "metadata": {},
   "outputs": [
    {
     "data": {
      "text/plain": [
       "Order ID             object\n",
       "Product              object\n",
       "Quantity Ordered      int64\n",
       "Price Each          float64\n",
       "Order Date           object\n",
       "Purchase Address     object\n",
       "dtype: object"
      ]
     },
     "execution_count": 138,
     "metadata": {},
     "output_type": "execute_result"
    }
   ],
   "source": [
    "latest_dataset.dtypes"
   ]
  },
  {
   "cell_type": "code",
   "execution_count": 139,
   "id": "4dc137b6",
   "metadata": {},
   "outputs": [],
   "source": [
    "latest_dataset['Order ID'] = latest_dataset['Order ID'].astype(int)"
   ]
  },
  {
   "cell_type": "code",
   "execution_count": 140,
   "id": "7fb71898",
   "metadata": {},
   "outputs": [
    {
     "data": {
      "text/plain": [
       "Order ID              int64\n",
       "Product              object\n",
       "Quantity Ordered      int64\n",
       "Price Each          float64\n",
       "Order Date           object\n",
       "Purchase Address     object\n",
       "dtype: object"
      ]
     },
     "execution_count": 140,
     "metadata": {},
     "output_type": "execute_result"
    }
   ],
   "source": [
    "latest_dataset.dtypes"
   ]
  },
  {
   "cell_type": "code",
   "execution_count": 141,
   "id": "0fb1c9e2",
   "metadata": {},
   "outputs": [],
   "source": [
    "## Creating a function\n",
    "\n",
    "def month(x):\n",
    "    return x.split('/')[0]"
   ]
  },
  {
   "cell_type": "code",
   "execution_count": 142,
   "id": "4d8c989e",
   "metadata": {},
   "outputs": [],
   "source": [
    "latest_dataset['Month'] = latest_dataset['Order Date'].apply(month)"
   ]
  },
  {
   "cell_type": "code",
   "execution_count": 143,
   "id": "ea4bc5f4",
   "metadata": {},
   "outputs": [
    {
     "data": {
      "text/html": [
       "<div>\n",
       "<style scoped>\n",
       "    .dataframe tbody tr th:only-of-type {\n",
       "        vertical-align: middle;\n",
       "    }\n",
       "\n",
       "    .dataframe tbody tr th {\n",
       "        vertical-align: top;\n",
       "    }\n",
       "\n",
       "    .dataframe thead th {\n",
       "        text-align: right;\n",
       "    }\n",
       "</style>\n",
       "<table border=\"1\" class=\"dataframe\">\n",
       "  <thead>\n",
       "    <tr style=\"text-align: right;\">\n",
       "      <th></th>\n",
       "      <th>Order ID</th>\n",
       "      <th>Product</th>\n",
       "      <th>Quantity Ordered</th>\n",
       "      <th>Price Each</th>\n",
       "      <th>Order Date</th>\n",
       "      <th>Purchase Address</th>\n",
       "      <th>Month</th>\n",
       "    </tr>\n",
       "  </thead>\n",
       "  <tbody>\n",
       "    <tr>\n",
       "      <th>0</th>\n",
       "      <td>295665</td>\n",
       "      <td>Macbook Pro Laptop</td>\n",
       "      <td>1</td>\n",
       "      <td>1700.00</td>\n",
       "      <td>12/30/19 00:01</td>\n",
       "      <td>136 Church St, New York City, NY 10001</td>\n",
       "      <td>12</td>\n",
       "    </tr>\n",
       "    <tr>\n",
       "      <th>1</th>\n",
       "      <td>295666</td>\n",
       "      <td>LG Washing Machine</td>\n",
       "      <td>1</td>\n",
       "      <td>600.00</td>\n",
       "      <td>12/29/19 07:03</td>\n",
       "      <td>562 2nd St, New York City, NY 10001</td>\n",
       "      <td>12</td>\n",
       "    </tr>\n",
       "    <tr>\n",
       "      <th>2</th>\n",
       "      <td>295667</td>\n",
       "      <td>USB-C Charging Cable</td>\n",
       "      <td>1</td>\n",
       "      <td>11.95</td>\n",
       "      <td>12/12/19 18:21</td>\n",
       "      <td>277 Main St, New York City, NY 10001</td>\n",
       "      <td>12</td>\n",
       "    </tr>\n",
       "    <tr>\n",
       "      <th>3</th>\n",
       "      <td>295668</td>\n",
       "      <td>27in FHD Monitor</td>\n",
       "      <td>1</td>\n",
       "      <td>149.99</td>\n",
       "      <td>12/22/19 15:13</td>\n",
       "      <td>410 6th St, San Francisco, CA 94016</td>\n",
       "      <td>12</td>\n",
       "    </tr>\n",
       "    <tr>\n",
       "      <th>4</th>\n",
       "      <td>295669</td>\n",
       "      <td>USB-C Charging Cable</td>\n",
       "      <td>1</td>\n",
       "      <td>11.95</td>\n",
       "      <td>12/18/19 12:38</td>\n",
       "      <td>43 Hill St, Atlanta, GA 30301</td>\n",
       "      <td>12</td>\n",
       "    </tr>\n",
       "  </tbody>\n",
       "</table>\n",
       "</div>"
      ],
      "text/plain": [
       "   Order ID               Product  Quantity Ordered  Price Each  \\\n",
       "0    295665    Macbook Pro Laptop                 1     1700.00   \n",
       "1    295666    LG Washing Machine                 1      600.00   \n",
       "2    295667  USB-C Charging Cable                 1       11.95   \n",
       "3    295668      27in FHD Monitor                 1      149.99   \n",
       "4    295669  USB-C Charging Cable                 1       11.95   \n",
       "\n",
       "       Order Date                        Purchase Address Month  \n",
       "0  12/30/19 00:01  136 Church St, New York City, NY 10001    12  \n",
       "1  12/29/19 07:03     562 2nd St, New York City, NY 10001    12  \n",
       "2  12/12/19 18:21    277 Main St, New York City, NY 10001    12  \n",
       "3  12/22/19 15:13     410 6th St, San Francisco, CA 94016    12  \n",
       "4  12/18/19 12:38           43 Hill St, Atlanta, GA 30301    12  "
      ]
     },
     "execution_count": 143,
     "metadata": {},
     "output_type": "execute_result"
    }
   ],
   "source": [
    "latest_dataset.head()"
   ]
  },
  {
   "cell_type": "code",
   "execution_count": 144,
   "id": "77db0c4b",
   "metadata": {},
   "outputs": [],
   "source": [
    "latest_dataset['Month'] = latest_dataset['Month'].astype(int)"
   ]
  },
  {
   "cell_type": "code",
   "execution_count": 145,
   "id": "99623619",
   "metadata": {},
   "outputs": [
    {
     "data": {
      "text/plain": [
       "Order ID              int64\n",
       "Product              object\n",
       "Quantity Ordered      int64\n",
       "Price Each          float64\n",
       "Order Date           object\n",
       "Purchase Address     object\n",
       "Month                 int64\n",
       "dtype: object"
      ]
     },
     "execution_count": 145,
     "metadata": {},
     "output_type": "execute_result"
    }
   ],
   "source": [
    "latest_dataset.dtypes"
   ]
  },
  {
   "cell_type": "markdown",
   "id": "8982343e",
   "metadata": {},
   "source": [
    "## Monthly Data Analysis"
   ]
  },
  {
   "cell_type": "code",
   "execution_count": 146,
   "id": "c55bf228",
   "metadata": {},
   "outputs": [],
   "source": [
    "latest_dataset['Sales'] = round(latest_dataset['Quantity Ordered']*latest_dataset['Price Each'])"
   ]
  },
  {
   "cell_type": "code",
   "execution_count": 147,
   "id": "6af18e3e",
   "metadata": {},
   "outputs": [
    {
     "data": {
      "text/html": [
       "<div>\n",
       "<style scoped>\n",
       "    .dataframe tbody tr th:only-of-type {\n",
       "        vertical-align: middle;\n",
       "    }\n",
       "\n",
       "    .dataframe tbody tr th {\n",
       "        vertical-align: top;\n",
       "    }\n",
       "\n",
       "    .dataframe thead th {\n",
       "        text-align: right;\n",
       "    }\n",
       "</style>\n",
       "<table border=\"1\" class=\"dataframe\">\n",
       "  <thead>\n",
       "    <tr style=\"text-align: right;\">\n",
       "      <th></th>\n",
       "      <th>Order ID</th>\n",
       "      <th>Product</th>\n",
       "      <th>Quantity Ordered</th>\n",
       "      <th>Price Each</th>\n",
       "      <th>Order Date</th>\n",
       "      <th>Purchase Address</th>\n",
       "      <th>Month</th>\n",
       "      <th>Sales</th>\n",
       "    </tr>\n",
       "  </thead>\n",
       "  <tbody>\n",
       "    <tr>\n",
       "      <th>0</th>\n",
       "      <td>295665</td>\n",
       "      <td>Macbook Pro Laptop</td>\n",
       "      <td>1</td>\n",
       "      <td>1700.00</td>\n",
       "      <td>12/30/19 00:01</td>\n",
       "      <td>136 Church St, New York City, NY 10001</td>\n",
       "      <td>12</td>\n",
       "      <td>1700.0</td>\n",
       "    </tr>\n",
       "    <tr>\n",
       "      <th>1</th>\n",
       "      <td>295666</td>\n",
       "      <td>LG Washing Machine</td>\n",
       "      <td>1</td>\n",
       "      <td>600.00</td>\n",
       "      <td>12/29/19 07:03</td>\n",
       "      <td>562 2nd St, New York City, NY 10001</td>\n",
       "      <td>12</td>\n",
       "      <td>600.0</td>\n",
       "    </tr>\n",
       "    <tr>\n",
       "      <th>2</th>\n",
       "      <td>295667</td>\n",
       "      <td>USB-C Charging Cable</td>\n",
       "      <td>1</td>\n",
       "      <td>11.95</td>\n",
       "      <td>12/12/19 18:21</td>\n",
       "      <td>277 Main St, New York City, NY 10001</td>\n",
       "      <td>12</td>\n",
       "      <td>12.0</td>\n",
       "    </tr>\n",
       "    <tr>\n",
       "      <th>3</th>\n",
       "      <td>295668</td>\n",
       "      <td>27in FHD Monitor</td>\n",
       "      <td>1</td>\n",
       "      <td>149.99</td>\n",
       "      <td>12/22/19 15:13</td>\n",
       "      <td>410 6th St, San Francisco, CA 94016</td>\n",
       "      <td>12</td>\n",
       "      <td>150.0</td>\n",
       "    </tr>\n",
       "    <tr>\n",
       "      <th>4</th>\n",
       "      <td>295669</td>\n",
       "      <td>USB-C Charging Cable</td>\n",
       "      <td>1</td>\n",
       "      <td>11.95</td>\n",
       "      <td>12/18/19 12:38</td>\n",
       "      <td>43 Hill St, Atlanta, GA 30301</td>\n",
       "      <td>12</td>\n",
       "      <td>12.0</td>\n",
       "    </tr>\n",
       "  </tbody>\n",
       "</table>\n",
       "</div>"
      ],
      "text/plain": [
       "   Order ID               Product  Quantity Ordered  Price Each  \\\n",
       "0    295665    Macbook Pro Laptop                 1     1700.00   \n",
       "1    295666    LG Washing Machine                 1      600.00   \n",
       "2    295667  USB-C Charging Cable                 1       11.95   \n",
       "3    295668      27in FHD Monitor                 1      149.99   \n",
       "4    295669  USB-C Charging Cable                 1       11.95   \n",
       "\n",
       "       Order Date                        Purchase Address  Month   Sales  \n",
       "0  12/30/19 00:01  136 Church St, New York City, NY 10001     12  1700.0  \n",
       "1  12/29/19 07:03     562 2nd St, New York City, NY 10001     12   600.0  \n",
       "2  12/12/19 18:21    277 Main St, New York City, NY 10001     12    12.0  \n",
       "3  12/22/19 15:13     410 6th St, San Francisco, CA 94016     12   150.0  \n",
       "4  12/18/19 12:38           43 Hill St, Atlanta, GA 30301     12    12.0  "
      ]
     },
     "execution_count": 147,
     "metadata": {},
     "output_type": "execute_result"
    }
   ],
   "source": [
    "latest_dataset.head()"
   ]
  },
  {
   "cell_type": "code",
   "execution_count": 151,
   "id": "b3c37fce",
   "metadata": {},
   "outputs": [
    {
     "data": {
      "text/plain": [
       "Month\n",
       "1     3645272.0\n",
       "2     4404994.0\n",
       "3     5615394.0\n",
       "4     6782806.0\n",
       "5     6306508.0\n",
       "6     5156704.0\n",
       "7     5296686.0\n",
       "8     4489886.0\n",
       "9     4196062.0\n",
       "10    7475052.0\n",
       "11    6400598.0\n",
       "12    9228864.0\n",
       "Name: Sales, dtype: float64"
      ]
     },
     "execution_count": 151,
     "metadata": {},
     "output_type": "execute_result"
    }
   ],
   "source": [
    "latest_dataset.groupby('Month')['Sales'].sum()"
   ]
  },
  {
   "cell_type": "markdown",
   "id": "b075cd3a",
   "metadata": {},
   "source": [
    "## Now Show Time.... 8)"
   ]
  },
  {
   "cell_type": "code",
   "execution_count": 155,
   "id": "ff941c69",
   "metadata": {},
   "outputs": [
    {
     "data": {
      "text/plain": [
       "<BarContainer object of 12 artists>"
      ]
     },
     "execution_count": 155,
     "metadata": {},
     "output_type": "execute_result"
    },
    {
     "data": {
      "image/png": "[encoded data removed]",
      "text/plain": [
       "<Figure size 640x480 with 1 Axes>"
      ]
     },
     "metadata": {},
     "output_type": "display_data"
    }
   ],
   "source": [
    "import matplotlib.pyplot as plt\n",
    "month = range(1,13)\n",
    "plt.bar(month,latest_dataset.groupby('Month')['Sales'].sum())"
   ]
  }
 ],
 "metadata": {
  "kernelspec": {
   "display_name": "Python 3 (ipykernel)",
   "language": "python",
   "name": "python3"
  },
  "language_info": {
   "codemirror_mode": {
    "name": "ipython",
    "version": 3
   },
   "file_extension": ".py",
   "mimetype": "text/x-python",
   "name": "python",
   "nbconvert_exporter": "python",
   "pygments_lexer": "ipython3",
   "version": "3.9.13"
  }
 },
 "nbformat": 4,
 "nbformat_minor": 5
}
